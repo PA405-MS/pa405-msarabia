{
 "cells": [
  {
   "cell_type": "markdown",
   "id": "5ba468c3-104d-40eb-b571-94b6126db7c0",
   "metadata": {},
   "source": [
    "## A quick geopandas teaser\n",
    "Following our Python bootcamp last week (was it boring? exhilerating? a bit of both?), let's put that programming knowledge into action, using and creating data that reflects a real urban situation.\n",
    "\n",
    "We start by importing a new module `geopandas`. This is a pretty high level geospatial library, widely used by spatial data scientists all over the world. Don't worry about it too much for now, but know that it allows us to import a variety of spatial data formats, and plot them on a map.\n",
    "\n",
    "* [geopandas documentation](https://geopandas.readthedocs.io/en/latest/gallery/index.html)"
   ]
  },
  {
   "cell_type": "code",
   "execution_count": 1,
   "id": "5ac8cc6b-6e78-46a8-a35c-ba1aafa73ca9",
   "metadata": {},
   "outputs": [
    {
     "name": "stdout",
     "output_type": "stream",
     "text": [
      "Requirement already satisfied: numpy in c:\\users\\marib\\anaconda\\lib\\site-packages (2.1.3)\n",
      "Requirement already satisfied: pandas in c:\\users\\marib\\anaconda\\lib\\site-packages (2.2.3)\n",
      "Collecting geopandas\n",
      "  Downloading geopandas-1.1.1-py3-none-any.whl.metadata (2.3 kB)\n",
      "Requirement already satisfied: matplotlib in c:\\users\\marib\\anaconda\\lib\\site-packages (3.10.0)\n",
      "Collecting folium\n",
      "  Downloading folium-0.20.0-py2.py3-none-any.whl.metadata (4.2 kB)\n",
      "Requirement already satisfied: python-dateutil>=2.8.2 in c:\\users\\marib\\anaconda\\lib\\site-packages (from pandas) (2.9.0.post0)\n",
      "Requirement already satisfied: pytz>=2020.1 in c:\\users\\marib\\anaconda\\lib\\site-packages (from pandas) (2024.1)\n",
      "Requirement already satisfied: tzdata>=2022.7 in c:\\users\\marib\\anaconda\\lib\\site-packages (from pandas) (2025.2)\n",
      "Collecting pyogrio>=0.7.2 (from geopandas)\n",
      "  Downloading pyogrio-0.11.0-cp313-cp313-win_amd64.whl.metadata (5.4 kB)\n",
      "Requirement already satisfied: packaging in c:\\users\\marib\\anaconda\\lib\\site-packages (from geopandas) (24.2)\n",
      "Collecting pyproj>=3.5.0 (from geopandas)\n",
      "  Downloading pyproj-3.7.1-cp313-cp313-win_amd64.whl.metadata (31 kB)\n",
      "Collecting shapely>=2.0.0 (from geopandas)\n",
      "  Downloading shapely-2.1.1-cp313-cp313-win_amd64.whl.metadata (7.0 kB)\n",
      "Requirement already satisfied: contourpy>=1.0.1 in c:\\users\\marib\\anaconda\\lib\\site-packages (from matplotlib) (1.3.1)\n",
      "Requirement already satisfied: cycler>=0.10 in c:\\users\\marib\\anaconda\\lib\\site-packages (from matplotlib) (0.11.0)\n",
      "Requirement already satisfied: fonttools>=4.22.0 in c:\\users\\marib\\anaconda\\lib\\site-packages (from matplotlib) (4.55.3)\n",
      "Requirement already satisfied: kiwisolver>=1.3.1 in c:\\users\\marib\\anaconda\\lib\\site-packages (from matplotlib) (1.4.8)\n",
      "Requirement already satisfied: pillow>=8 in c:\\users\\marib\\anaconda\\lib\\site-packages (from matplotlib) (11.1.0)\n",
      "Requirement already satisfied: pyparsing>=2.3.1 in c:\\users\\marib\\anaconda\\lib\\site-packages (from matplotlib) (3.2.0)\n",
      "Collecting branca>=0.6.0 (from folium)\n",
      "  Downloading branca-0.8.1-py3-none-any.whl.metadata (1.5 kB)\n",
      "Requirement already satisfied: jinja2>=2.9 in c:\\users\\marib\\anaconda\\lib\\site-packages (from folium) (3.1.6)\n",
      "Requirement already satisfied: requests in c:\\users\\marib\\anaconda\\lib\\site-packages (from folium) (2.32.3)\n",
      "Requirement already satisfied: xyzservices in c:\\users\\marib\\anaconda\\lib\\site-packages (from folium) (2022.9.0)\n",
      "Requirement already satisfied: MarkupSafe>=2.0 in c:\\users\\marib\\anaconda\\lib\\site-packages (from jinja2>=2.9->folium) (3.0.2)\n",
      "Requirement already satisfied: certifi in c:\\users\\marib\\anaconda\\lib\\site-packages (from pyogrio>=0.7.2->geopandas) (2025.4.26)\n",
      "Requirement already satisfied: six>=1.5 in c:\\users\\marib\\anaconda\\lib\\site-packages (from python-dateutil>=2.8.2->pandas) (1.17.0)\n",
      "Requirement already satisfied: charset-normalizer<4,>=2 in c:\\users\\marib\\anaconda\\lib\\site-packages (from requests->folium) (3.3.2)\n",
      "Requirement already satisfied: idna<4,>=2.5 in c:\\users\\marib\\anaconda\\lib\\site-packages (from requests->folium) (3.7)\n",
      "Requirement already satisfied: urllib3<3,>=1.21.1 in c:\\users\\marib\\anaconda\\lib\\site-packages (from requests->folium) (2.3.0)\n",
      "Downloading geopandas-1.1.1-py3-none-any.whl (338 kB)\n",
      "Downloading folium-0.20.0-py2.py3-none-any.whl (113 kB)\n",
      "Downloading branca-0.8.1-py3-none-any.whl (26 kB)\n",
      "Downloading pyogrio-0.11.0-cp313-cp313-win_amd64.whl (19.2 MB)\n",
      "   ---------------------------------------- 0.0/19.2 MB ? eta -:--:--\n",
      "   ----------- ---------------------------- 5.5/19.2 MB 27.8 MB/s eta 0:00:01\n",
      "   --------------------------- ------------ 13.1/19.2 MB 31.6 MB/s eta 0:00:01\n",
      "   ---------------------------------------  19.1/19.2 MB 31.0 MB/s eta 0:00:01\n",
      "   ---------------------------------------- 19.2/19.2 MB 28.3 MB/s eta 0:00:00\n",
      "Downloading pyproj-3.7.1-cp313-cp313-win_amd64.whl (6.3 MB)\n",
      "   ---------------------------------------- 0.0/6.3 MB ? eta -:--:--\n",
      "   -------------------------------------- - 6.0/6.3 MB 31.7 MB/s eta 0:00:01\n",
      "   ---------------------------------------- 6.3/6.3 MB 27.3 MB/s eta 0:00:00\n",
      "Downloading shapely-2.1.1-cp313-cp313-win_amd64.whl (1.7 MB)\n",
      "   ---------------------------------------- 0.0/1.7 MB ? eta -:--:--\n",
      "   ---------------------------------------- 1.7/1.7 MB 39.3 MB/s eta 0:00:00\n",
      "Installing collected packages: shapely, pyproj, pyogrio, branca, geopandas, folium\n",
      "\n",
      "   ---------------------------------------- 0/6 [shapely]\n",
      "   ---------------------------------------- 0/6 [shapely]\n",
      "   ---------------------------------------- 0/6 [shapely]\n",
      "   ---------------------------------------- 0/6 [shapely]\n",
      "   ---------------------------------------- 0/6 [shapely]\n",
      "   ---------------------------------------- 0/6 [shapely]\n",
      "   ---------------------------------------- 0/6 [shapely]\n",
      "   ---------------------------------------- 0/6 [shapely]\n",
      "   ---------------------------------------- 0/6 [shapely]\n",
      "   ---------------------------------------- 0/6 [shapely]\n",
      "   ---------------------------------------- 0/6 [shapely]\n",
      "   ---------------------------------------- 0/6 [shapely]\n",
      "   ---------------------------------------- 0/6 [shapely]\n",
      "   ---------------------------------------- 0/6 [shapely]\n",
      "   ---------------------------------------- 0/6 [shapely]\n",
      "   ---------------------------------------- 0/6 [shapely]\n",
      "   ---------------------------------------- 0/6 [shapely]\n",
      "   ---------------------------------------- 0/6 [shapely]\n",
      "   ---------------------------------------- 0/6 [shapely]\n",
      "   ---------------------------------------- 0/6 [shapely]\n",
      "   ------ --------------------------------- 1/6 [pyproj]\n",
      "   ------ --------------------------------- 1/6 [pyproj]\n",
      "   ------ --------------------------------- 1/6 [pyproj]\n",
      "   ------ --------------------------------- 1/6 [pyproj]\n",
      "   ------ --------------------------------- 1/6 [pyproj]\n",
      "   ------------- -------------------------- 2/6 [pyogrio]\n",
      "   ------------- -------------------------- 2/6 [pyogrio]\n",
      "   ------------- -------------------------- 2/6 [pyogrio]\n",
      "   ------------- -------------------------- 2/6 [pyogrio]\n",
      "   ------------- -------------------------- 2/6 [pyogrio]\n",
      "   -------------------- ------------------- 3/6 [branca]\n",
      "   -------------------------- ------------- 4/6 [geopandas]\n",
      "   -------------------------- ------------- 4/6 [geopandas]\n",
      "   -------------------------- ------------- 4/6 [geopandas]\n",
      "   -------------------------- ------------- 4/6 [geopandas]\n",
      "   -------------------------- ------------- 4/6 [geopandas]\n",
      "   -------------------------- ------------- 4/6 [geopandas]\n",
      "   -------------------------- ------------- 4/6 [geopandas]\n",
      "   -------------------------- ------------- 4/6 [geopandas]\n",
      "   -------------------------- ------------- 4/6 [geopandas]\n",
      "   -------------------------- ------------- 4/6 [geopandas]\n",
      "   -------------------------- ------------- 4/6 [geopandas]\n",
      "   --------------------------------- ------ 5/6 [folium]\n",
      "   --------------------------------- ------ 5/6 [folium]\n",
      "   --------------------------------- ------ 5/6 [folium]\n",
      "   --------------------------------- ------ 5/6 [folium]\n",
      "   --------------------------------- ------ 5/6 [folium]\n",
      "   --------------------------------- ------ 5/6 [folium]\n",
      "   ---------------------------------------- 6/6 [folium]\n",
      "\n",
      "Successfully installed branca-0.8.1 folium-0.20.0 geopandas-1.1.1 pyogrio-0.11.0 pyproj-3.7.1 shapely-2.1.1\n"
     ]
    },
    {
     "name": "stderr",
     "output_type": "stream",
     "text": [
      "WARNING: Retrying (Retry(total=4, connect=None, read=None, redirect=None, status=None)) after connection broken by 'ProtocolError('Connection aborted.', ConnectionResetError(10054, 'An existing connection was forcibly closed by the remote host', None, 10054, None))': /simple/geopandas/\n",
      "WARNING: Retrying (Retry(total=3, connect=None, read=None, redirect=None, status=None)) after connection broken by 'ProtocolError('Connection aborted.', ConnectionResetError(10054, 'An existing connection was forcibly closed by the remote host', None, 10054, None))': /simple/geopandas/\n",
      "WARNING: Retrying (Retry(total=2, connect=None, read=None, redirect=None, status=None)) after connection broken by 'ProtocolError('Connection aborted.', ConnectionResetError(10054, 'An existing connection was forcibly closed by the remote host', None, 10054, None))': /simple/geopandas/\n",
      "  WARNING: Retrying (Retry(total=4, connect=None, read=None, redirect=None, status=None)) after connection broken by 'ProtocolError('Connection aborted.', ConnectionResetError(10054, 'An existing connection was forcibly closed by the remote host', None, 10054, None))': /packages/0b/70/d5cd0696eff08e62fdbdebe5b46527facb4e7220eabe0ac6225efab50168/geopandas-1.1.1-py3-none-any.whl.metadata\n",
      "  WARNING: Retrying (Retry(total=3, connect=None, read=None, redirect=None, status=None)) after connection broken by 'ProtocolError('Connection aborted.', ConnectionResetError(10054, 'An existing connection was forcibly closed by the remote host', None, 10054, None))': /packages/0b/70/d5cd0696eff08e62fdbdebe5b46527facb4e7220eabe0ac6225efab50168/geopandas-1.1.1-py3-none-any.whl.metadata\n",
      "  WARNING: Retrying (Retry(total=2, connect=None, read=None, redirect=None, status=None)) after connection broken by 'ProtocolError('Connection aborted.', ConnectionResetError(10054, 'An existing connection was forcibly closed by the remote host', None, 10054, None))': /packages/0b/70/d5cd0696eff08e62fdbdebe5b46527facb4e7220eabe0ac6225efab50168/geopandas-1.1.1-py3-none-any.whl.metadata\n"
     ]
    }
   ],
   "source": [
    "# pip install allows us to import third party libraries to anaconda\n",
    "!pip install numpy pandas geopandas matplotlib folium"
   ]
  },
  {
   "cell_type": "code",
   "execution_count": 2,
   "id": "035b3add-fcf1-4855-abdd-00edaa7ce32c",
   "metadata": {
    "slideshow": {
     "slide_type": "slide"
    }
   },
   "outputs": [],
   "source": [
    "import pandas as pd\n",
    "import geopandas as gpd\n",
    "import matplotlib.pyplot as plt"
   ]
  },
  {
   "cell_type": "code",
   "execution_count": 3,
   "id": "d2508755-9be7-4cfa-ae76-39b861157a2b",
   "metadata": {},
   "outputs": [],
   "source": [
    "# read and input csv to notebook\n",
    "EVChargerSites = pd.read_csv('Data/Site List June 2025.csv')"
   ]
  },
  {
   "cell_type": "code",
   "execution_count": 4,
   "id": "cde64f50-71c7-4b19-ba18-65150d88f43a",
   "metadata": {},
   "outputs": [
    {
     "data": {
      "text/plain": [
       "(130, 14)"
      ]
     },
     "execution_count": 4,
     "metadata": {},
     "output_type": "execute_result"
    }
   ],
   "source": [
    "EVChargerSites.shape"
   ]
  },
  {
   "cell_type": "code",
   "execution_count": 5,
   "id": "ea54d778-3651-401d-922c-c34b2a8ebb43",
   "metadata": {},
   "outputs": [
    {
     "data": {
      "text/plain": [
       "<bound method DataFrame.info of                                       Site Name                 Address  \\\n",
       "0                                  ACWM Arcadia  12300 Lower Azusa Road   \n",
       "1                               ACWM South Gate      11012 Garfield Ave   \n",
       "2                                  ADD Altadena       730 E Altadena Dr   \n",
       "3             ADD Antelope Valley Senior Center    777 W Jackman Street   \n",
       "4                                ADD Los Nietos       11640 Slauson Ave   \n",
       "..                                          ...                     ...   \n",
       "125   Sheriff Temple City Station (Private Lot)     8838 E Las Tunas Dr   \n",
       "126    Sheriff Temple City Station (Public Lot)     8838 E Las Tunas Dr   \n",
       "127  Sheriff Twin Towers Correctional Faciliity           450 E Bauchet   \n",
       "128                      Sheriff Walnut Station     21695 E Valley Blvd   \n",
       "129              Sheriff West Hollywood Station  780 N San Vicente Blvd   \n",
       "\n",
       "                City  Zip Code   Latitude   Longitude  SD  \\\n",
       "0            Arcadia     91706  34.088004 -117.999965   5   \n",
       "1         South Gate     90280  33.927571 -118.167780   4   \n",
       "2           Altadena     91001  34.189711 -118.133199   5   \n",
       "3          Lancaster     93534  34.702216 -118.144943   5   \n",
       "4           Whittier     90606  33.964156 -118.067134   4   \n",
       "..               ...       ...        ...         ...  ..   \n",
       "125      Temple City     91780  34.102266 -118.075902   5   \n",
       "126      Temple City     91780  34.103101 -118.076170   5   \n",
       "127      Los Angeles     90012  34.059521 -118.229852   1   \n",
       "128           Walnut     91789  34.028667 -117.833689   4   \n",
       "129  West Hollywood      90069  34.084051 -118.383381   3   \n",
       "\n",
       "    Disadvantage Community  PORT COUNT Provision Date     Status  \\\n",
       "0                      Yes           8      10/16/2023    Active   \n",
       "1                      Yes          13       2/12/2024    Active   \n",
       "2                       No          10      12/12/2023    Active   \n",
       "3                      Yes          20       6/25/2025    Active   \n",
       "4                      Yes          12        7/8/2024    Active   \n",
       "..                     ...         ...             ...       ...   \n",
       "125                    Yes           4       5/22/2025  Offline    \n",
       "126                    Yes           2       8/18/2021    Active   \n",
       "127                     No          19      12/16/2022    Active   \n",
       "128                     No           2      10/15/2021    Active   \n",
       "129                     No           2       7/27/2021    Active   \n",
       "\n",
       "          Accessibility  Fee Paid Parking Lot  \n",
       "0    Employee and Fleet  Yes               No  \n",
       "1    Employee and Fleet  Yes               No  \n",
       "2                Public  Yes               No  \n",
       "3                Public  Yes               No  \n",
       "4                Public  Yes               No  \n",
       "..                  ...  ...              ...  \n",
       "125          Employee    Yes               No  \n",
       "126              Public  Yes               No  \n",
       "127          Employee    Yes               No  \n",
       "128              Public  Yes               No  \n",
       "129              Public  Yes               No  \n",
       "\n",
       "[130 rows x 14 columns]>"
      ]
     },
     "execution_count": 5,
     "metadata": {},
     "output_type": "execute_result"
    }
   ],
   "source": [
    "EVChargerSites.info"
   ]
  },
  {
   "cell_type": "code",
   "execution_count": 8,
   "id": "3f82eeeb-068e-4b19-b428-94014ed519e5",
   "metadata": {},
   "outputs": [
    {
     "data": {
      "text/html": [
       "<div>\n",
       "<style scoped>\n",
       "    .dataframe tbody tr th:only-of-type {\n",
       "        vertical-align: middle;\n",
       "    }\n",
       "\n",
       "    .dataframe tbody tr th {\n",
       "        vertical-align: top;\n",
       "    }\n",
       "\n",
       "    .dataframe thead th {\n",
       "        text-align: right;\n",
       "    }\n",
       "</style>\n",
       "<table border=\"1\" class=\"dataframe\">\n",
       "  <thead>\n",
       "    <tr style=\"text-align: right;\">\n",
       "      <th></th>\n",
       "      <th>Site Name</th>\n",
       "      <th>Address</th>\n",
       "      <th>City</th>\n",
       "      <th>Zip Code</th>\n",
       "      <th>Latitude</th>\n",
       "      <th>Longitude</th>\n",
       "      <th>SD</th>\n",
       "      <th>Disadvantage Community</th>\n",
       "      <th>PORT COUNT</th>\n",
       "      <th>Provision Date</th>\n",
       "      <th>Status</th>\n",
       "      <th>Accessibility</th>\n",
       "      <th>Fee</th>\n",
       "      <th>Paid Parking Lot</th>\n",
       "    </tr>\n",
       "  </thead>\n",
       "  <tbody>\n",
       "    <tr>\n",
       "      <th>0</th>\n",
       "      <td>ACWM Arcadia</td>\n",
       "      <td>12300 Lower Azusa Road</td>\n",
       "      <td>Arcadia</td>\n",
       "      <td>91706</td>\n",
       "      <td>34.088004</td>\n",
       "      <td>-117.999965</td>\n",
       "      <td>5</td>\n",
       "      <td>Yes</td>\n",
       "      <td>8</td>\n",
       "      <td>10/16/2023</td>\n",
       "      <td>Active</td>\n",
       "      <td>Employee and Fleet</td>\n",
       "      <td>Yes</td>\n",
       "      <td>No</td>\n",
       "    </tr>\n",
       "    <tr>\n",
       "      <th>1</th>\n",
       "      <td>ACWM South Gate</td>\n",
       "      <td>11012 Garfield Ave</td>\n",
       "      <td>South Gate</td>\n",
       "      <td>90280</td>\n",
       "      <td>33.927571</td>\n",
       "      <td>-118.167780</td>\n",
       "      <td>4</td>\n",
       "      <td>Yes</td>\n",
       "      <td>13</td>\n",
       "      <td>2/12/2024</td>\n",
       "      <td>Active</td>\n",
       "      <td>Employee and Fleet</td>\n",
       "      <td>Yes</td>\n",
       "      <td>No</td>\n",
       "    </tr>\n",
       "    <tr>\n",
       "      <th>2</th>\n",
       "      <td>ADD Altadena</td>\n",
       "      <td>730 E Altadena Dr</td>\n",
       "      <td>Altadena</td>\n",
       "      <td>91001</td>\n",
       "      <td>34.189711</td>\n",
       "      <td>-118.133199</td>\n",
       "      <td>5</td>\n",
       "      <td>No</td>\n",
       "      <td>10</td>\n",
       "      <td>12/12/2023</td>\n",
       "      <td>Active</td>\n",
       "      <td>Public</td>\n",
       "      <td>Yes</td>\n",
       "      <td>No</td>\n",
       "    </tr>\n",
       "    <tr>\n",
       "      <th>3</th>\n",
       "      <td>ADD Antelope Valley Senior Center</td>\n",
       "      <td>777 W Jackman Street</td>\n",
       "      <td>Lancaster</td>\n",
       "      <td>93534</td>\n",
       "      <td>34.702216</td>\n",
       "      <td>-118.144943</td>\n",
       "      <td>5</td>\n",
       "      <td>Yes</td>\n",
       "      <td>20</td>\n",
       "      <td>6/25/2025</td>\n",
       "      <td>Active</td>\n",
       "      <td>Public</td>\n",
       "      <td>Yes</td>\n",
       "      <td>No</td>\n",
       "    </tr>\n",
       "    <tr>\n",
       "      <th>4</th>\n",
       "      <td>ADD Los Nietos</td>\n",
       "      <td>11640 Slauson Ave</td>\n",
       "      <td>Whittier</td>\n",
       "      <td>90606</td>\n",
       "      <td>33.964156</td>\n",
       "      <td>-118.067134</td>\n",
       "      <td>4</td>\n",
       "      <td>Yes</td>\n",
       "      <td>12</td>\n",
       "      <td>7/8/2024</td>\n",
       "      <td>Active</td>\n",
       "      <td>Public</td>\n",
       "      <td>Yes</td>\n",
       "      <td>No</td>\n",
       "    </tr>\n",
       "  </tbody>\n",
       "</table>\n",
       "</div>"
      ],
      "text/plain": [
       "                           Site Name                 Address        City  \\\n",
       "0                       ACWM Arcadia  12300 Lower Azusa Road     Arcadia   \n",
       "1                    ACWM South Gate      11012 Garfield Ave  South Gate   \n",
       "2                       ADD Altadena       730 E Altadena Dr    Altadena   \n",
       "3  ADD Antelope Valley Senior Center    777 W Jackman Street   Lancaster   \n",
       "4                     ADD Los Nietos       11640 Slauson Ave    Whittier   \n",
       "\n",
       "   Zip Code   Latitude   Longitude  SD Disadvantage Community  PORT COUNT  \\\n",
       "0     91706  34.088004 -117.999965   5                    Yes           8   \n",
       "1     90280  33.927571 -118.167780   4                    Yes          13   \n",
       "2     91001  34.189711 -118.133199   5                     No          10   \n",
       "3     93534  34.702216 -118.144943   5                    Yes          20   \n",
       "4     90606  33.964156 -118.067134   4                    Yes          12   \n",
       "\n",
       "  Provision Date   Status       Accessibility  Fee Paid Parking Lot  \n",
       "0      10/16/2023  Active  Employee and Fleet  Yes               No  \n",
       "1       2/12/2024  Active  Employee and Fleet  Yes               No  \n",
       "2      12/12/2023  Active              Public  Yes               No  \n",
       "3       6/25/2025  Active              Public  Yes               No  \n",
       "4        7/8/2024  Active              Public  Yes               No  "
      ]
     },
     "execution_count": 8,
     "metadata": {},
     "output_type": "execute_result"
    }
   ],
   "source": [
    "# .head command shows me the fist five rows in my data set\n",
    "EVChargerSites.head()"
   ]
  },
  {
   "cell_type": "code",
   "execution_count": 15,
   "id": "b188249c-4881-477f-babc-5b2ecfece8e3",
   "metadata": {},
   "outputs": [
    {
     "data": {
      "text/plain": [
       "<Axes: title={'center': 'Number of port counts per SD'}, xlabel='SD'>"
      ]
     },
     "execution_count": 15,
     "metadata": {},
     "output_type": "execute_result"
    },
    {
     "data": {
      "image/png": "[encoded data removed]",
      "text/plain": [
       "<Figure size 640x480 with 1 Axes>"
      ]
     },
     "metadata": {},
     "output_type": "display_data"
    }
   ],
   "source": [
    "# My first plot line\n",
    "EVChargerSites.plot.bar(x = 'SD', y = 'PORT COUNT', title = 'Number of port counts per SD')\n",
    "                "
   ]
  },
  {
   "cell_type": "code",
   "execution_count": 18,
   "id": "67166f5a-7c6a-4538-b885-5906e528a3b9",
   "metadata": {},
   "outputs": [],
   "source": [
    "# value_counts() give the number of time a unique value occures for SD \n",
    "port_count = EVChargerSites['SD'].value_counts()\n",
    "\n",
    "port_count = port_count.reset_index()\n",
    "\n",
    "port_count.columns = ['SD', 'PORT COUNT']\n"
   ]
  },
  {
   "cell_type": "code",
   "execution_count": 10,
   "id": "1a57b620-92f5-45c2-9701-afca89401bf9",
   "metadata": {},
   "outputs": [
    {
     "data": {
      "text/plain": [
       "Site Name                                   Address                 City             Zip Code  Latitude   Longitude    SD  Disadvantage Community  PORT COUNT  Provision Date   Status    Accessibility       Fee  Paid Parking Lot\n",
       "ACWM Arcadia                                12300 Lower Azusa Road  Arcadia          91706     34.088004  -117.999965  5   Yes                     8           10/16/2023       Active    Employee and Fleet  Yes  No                  1\n",
       "ACWM South Gate                             11012 Garfield Ave      South Gate       90280     33.927571  -118.167780  4   Yes                     13          2/12/2024        Active    Employee and Fleet  Yes  No                  1\n",
       "ADD Altadena                                730 E Altadena Dr       Altadena         91001     34.189711  -118.133199  5   No                      10          12/12/2023       Active    Public              Yes  No                  1\n",
       "ADD Antelope Valley Senior Center           777 W Jackman Street    Lancaster        93534     34.702216  -118.144943  5   Yes                     20          6/25/2025        Active    Public              Yes  No                  1\n",
       "ADD Los Nietos                              11640 Slauson Ave       Whittier         90606     33.964156  -118.067134  4   Yes                     12          7/8/2024         Active    Public              Yes  No                  1\n",
       "                                                                                                                                                                                                                                      ..\n",
       "Sheriff Temple City Station (Private Lot)   8838 E Las Tunas Dr     Temple City      91780     34.102266  -118.075902  5   Yes                     4           5/22/2025        Offline   Employee            Yes  No                  1\n",
       "Sheriff Temple City Station (Public Lot)    8838 E Las Tunas Dr     Temple City      91780     34.103101  -118.076170  5   Yes                     2           8/18/2021        Active    Public              Yes  No                  1\n",
       "Sheriff Twin Towers Correctional Faciliity  450 E Bauchet           Los Angeles      90012     34.059521  -118.229852  1   No                      19          12/16/2022       Active    Employee            Yes  No                  1\n",
       "Sheriff Walnut Station                      21695 E Valley Blvd     Walnut           91789     34.028667  -117.833689  4   No                      2           10/15/2021       Active    Public              Yes  No                  1\n",
       "Sheriff West Hollywood Station              780 N San Vicente Blvd  West Hollywood   90069     34.084051  -118.383381  3   No                      2           7/27/2021        Active    Public              Yes  No                  1\n",
       "Name: count, Length: 130, dtype: int64"
      ]
     },
     "execution_count": 10,
     "metadata": {},
     "output_type": "execute_result"
    }
   ],
   "source": [
    "EVChargerSites.value_counts()"
   ]
  },
  {
   "cell_type": "code",
   "execution_count": 17,
   "id": "4eca4f86-d6a1-4dc4-8c07-60ac08c9ad9c",
   "metadata": {},
   "outputs": [
    {
     "data": {
      "text/plain": [
       "<Axes: title={'center': 'Number of charging port stations per SD'}, xlabel='SD'>"
      ]
     },
     "execution_count": 17,
     "metadata": {},
     "output_type": "execute_result"
    },
    {
     "data": {
      "image/png": "[encoded data removed]",
      "text/plain": [
       "<Figure size 640x480 with 1 Axes>"
      ]
     },
     "metadata": {},
     "output_type": "display_data"
    }
   ],
   "source": [
    "# give it additional arguments\n",
    "port_count.plot.bar(x = 'SD', y = 'PORT COUNT', title = 'Number of charging port stations per SD')"
   ]
  },
  {
   "cell_type": "code",
   "execution_count": null,
   "id": "5c36aada-c8e7-4495-8305-62a19b7900a0",
   "metadata": {},
   "outputs": [],
   "source": []
  }
 ],
 "metadata": {
  "kernelspec": {
   "display_name": "Python [conda env:anaconda]",
   "language": "python",
   "name": "conda-env-anaconda-py"
  },
  "language_info": {
   "codemirror_mode": {
    "name": "ipython",
    "version": 3
   },
   "file_extension": ".py",
   "mimetype": "text/x-python",
   "name": "python",
   "nbconvert_exporter": "python",
   "pygments_lexer": "ipython3",
   "version": "3.13.5"
  }
 },
 "nbformat": 4,
 "nbformat_minor": 5
}
